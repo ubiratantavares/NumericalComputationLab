{
 "cells": [
  {
   "cell_type": "markdown",
   "metadata": {},
   "source": [
    "# Resolução de Equação Não-Linear Transcendental: Método da Bisseção"
   ]
  },
  {
   "cell_type": "markdown",
   "metadata": {},
   "source": [
    "## Definição"
   ]
  },
  {
   "cell_type": "markdown",
   "metadata": {},
   "source": [
    "O **método da bisseção** é amplamente descrito como uma técnica numérica baseada no **Teorema do Valor Intermediário**, o qual assegura que, para uma função contínua $f$ em um intervalo \\([a, b]\\), se \\( f(a) \\) e \\( f(b) \\) possuem sinais opostos, então existe pelo menos uma raiz \\( c \\) no intervalo (a, b) onde \\( f(c) = 0 \\). Este fundamento é corroborado por diversos autores, como Press et al. (2007) e Quadros e Bortoli (2009), que enfatizam a confiabilidade do método para encontrar raízes de funções contínuas."
   ]
  },
  {
   "cell_type": "markdown",
   "metadata": {},
   "source": [
    "A abordagem iterativa do método consiste em dividir o intervalo em duas metades e identificar em qual subintervalo ocorre a mudança de sinal, repetindo o processo até que a largura do intervalo seja suficientemente pequena para atingir a precisão desejada. Este procedimento é amplamente validado como robusto, com garantia de convergência, o que o torna uma escolha confiável em contextos práticos de cálculo numérico (Meireles Graça; Trindade Lima, 2015; Galvão; Nunes, 2019)."
   ]
  },
  {
   "cell_type": "markdown",
   "metadata": {},
   "source": [
    "Embora o **método da bisseção** seja reconhecido por sua simplicidade e robustez, diversos autores mencionam limitações relacionadas à sua taxa de convergência. Enquanto a convergência é garantida, a velocidade é linear, o que pode tornar o processo mais lento em comparação a métodos como o de **Newton-Raphson** (Dahlquist; Björck, 2008; Quadros; Bortoli, 2009). Esse aspecto é abordado em estudos que sugerem que a bisseção é mais adequada para funções onde métodos mais rápidos podem falhar devido a comportamentos irregulares."
   ]
  },
  {
   "cell_type": "markdown",
   "metadata": {},
   "source": [
    "Além disso, a simplicidade do método o torna uma ferramenta valiosa para funções complexas ou de difícil solução analítica, como exemplificado por Miranda no uso do método em Python para encontrar raízes em funções complexas e aplicações em engenharia e ciência (Miranda, Laboratório Numérico em Python)."
   ]
  },
  {
   "cell_type": "markdown",
   "metadata": {},
   "source": [
    "Alguns autores discutem restrições no uso do método da bisseção em problemas mais complexos. White (2003) ressalta que a bisseção não é ideal para sistemas de equações não lineares com múltiplas incógnitas, onde a eficiência do método é superada por alternativas como os métodos de **Picard** e **Newton**, que permitem maior flexibilidade e eficiência. Em contraste, autores como Yang et al. (2005) sustentam que, para problemas de localização de raízes isoladas, o **método da bisseção** continua sendo uma abordagem robusta, mesmo que menos eficiente para contextos com várias raízes ou funções de comportamento irregular."
   ]
  },
  {
   "cell_type": "markdown",
   "metadata": {},
   "source": [
    "Essas perspectivas ilustram tanto o valor prático quanto as limitações do **método da bisseção**, indicando sua utilidade em resolver equações transcendentais em contextos específicos, enquanto outros métodos são recomendados para sistemas de equações ou problemas de alta complexidade."
   ]
  },
  {
   "cell_type": "code",
   "execution_count": null,
   "metadata": {},
   "outputs": [],
   "source": []
  },
  {
   "cell_type": "code",
   "execution_count": null,
   "metadata": {},
   "outputs": [],
   "source": []
  },
  {
   "cell_type": "code",
   "execution_count": null,
   "metadata": {},
   "outputs": [],
   "source": []
  },
  {
   "cell_type": "code",
   "execution_count": null,
   "metadata": {},
   "outputs": [],
   "source": []
  },
  {
   "cell_type": "code",
   "execution_count": null,
   "metadata": {},
   "outputs": [],
   "source": []
  },
  {
   "cell_type": "code",
   "execution_count": null,
   "metadata": {},
   "outputs": [],
   "source": []
  }
 ],
 "metadata": {
  "kernelspec": {
   "display_name": "Python 3 (ipykernel)",
   "language": "python",
   "name": "python3"
  },
  "language_info": {
   "codemirror_mode": {
    "name": "ipython",
    "version": 3
   },
   "file_extension": ".py",
   "mimetype": "text/x-python",
   "name": "python",
   "nbconvert_exporter": "python",
   "pygments_lexer": "ipython3",
   "version": "3.12.7"
  }
 },
 "nbformat": 4,
 "nbformat_minor": 4
}
