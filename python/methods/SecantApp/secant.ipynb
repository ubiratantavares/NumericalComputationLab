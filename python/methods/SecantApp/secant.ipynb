{
 "cells": [
  {
   "cell_type": "markdown",
   "metadata": {},
   "source": [
    "# Raízes de Equação: Método da Secante"
   ]
  },
  {
   "cell_type": "markdown",
   "metadata": {},
   "source": [
    "Mario Meireles Graça; Pedro Trindade Lima. Apontamentos de Matemática Computacional. Universidade de Lisboa. 2015.\n",
    "\n",
    "### Método da Secante\n",
    "\n",
    "#### Definição\n",
    "O método da secante é um algoritmo numérico utilizado para encontrar raízes de funções reais. Ele é uma alternativa ao método de Newton, mas não requer o cálculo da derivada da função. O método utiliza duas aproximações iniciais e a secante (reta que liga os dois pontos) para estimar a raiz. A fórmula iterativa é dada por:\n",
    "$\n",
    "x_{n+1} = x_n - \\frac{f(x_n) \\cdot (x_n - x_{n-1})}{f(x_n) - f(x_{n-1})}\n",
    "$\n",
    "onde $ f $ é a função da qual se deseja encontrar a raiz.\n",
    "\n",
    "#### Algoritmo\n",
    "1. **Escolha de Pontos Iniciais**: Selecione dois pontos iniciais $ x_0 $ e $ x_1 $ que estejam próximos da raiz desejada.\n",
    "2. **Iteração**: Calcule as iterações usando a fórmula:\n",
    "   $\n",
    "   x_{n+1} = x_n - \\frac{f(x_n) \\cdot (x_n - x_{n-1})}{f(x_n) - f(x_{n-1})}\n",
    "   $\n",
    "3. **Critério de Parada**: Continue iterando até que a diferença entre iterações consecutivas seja menor que uma tolerância pré-definida $ \\epsilon $ ou até que um número máximo de iterações seja atingido.\n",
    "\n",
    "#### Vantagens\n",
    "- **Não Requer Derivadas**: O método da secante não exige o cálculo da derivada da função, o que o torna útil para funções onde a derivada é difícil de determinar.\n",
    "- **Simples de Implementar**: A implementação do método é relativamente simples e direta.\n",
    "\n",
    "#### Limitações\n",
    "- **Convergência Lenta**: O método da secante geralmente converge mais lentamente do que o método de Newton, que possui convergência quadrática.\n",
    "- **Dependência de Dois Pontos**: A escolha dos pontos iniciais é crucial; se os pontos não estiverem próximos da raiz, o método pode falhar ou divergir.\n",
    "- **Oscilações**: O método pode oscilar e não convergir se a função não for bem comportada.\n",
    "\n",
    "#### Implementação em Python\n",
    "Aqui está um exemplo simples de implementação do método da secante em Python:\n",
    "\n",
    "```python\n",
    "def secante(f, x0, x1, tol=1e-5, max_iter=100):\n",
    "    for i in range(max_iter):\n",
    "        if abs(f(x1) - f(x0)) < 1e-10:  # Evita divisão por zero\n",
    "            raise ValueError(\"Divisão por zero detectada.\")\n",
    "        \n",
    "        x2 = x1 - f(x1) * (x1 - x0) / (f(x1) - f(x0))  # Calcula a próxima iteração\n",
    "        \n",
    "        if abs(x2 - x1) < tol:  # Verifica a condição de parada\n",
    "            return x2  # Retorna a raiz encontrada\n",
    "        \n",
    "        x0, x1 = x1, x2  # Atualiza os pontos para a próxima iteração\n",
    "    \n",
    "    raise ValueError(\"Número máximo de iterações atingido.\")\n",
    "\n",
    "# Exemplo de uso\n",
    "def f(x):\n",
    "    return x**2 - 2  # Função cuja raiz queremos encontrar (sqrt(2))\n",
    "\n",
    "raiz_encontrada = secante(f, 1, 2)\n",
    "print(f\"A raiz encontrada é: {raiz_encontrada}\")\n",
    "```\n",
    "\n",
    "#### Discussão\n",
    "O método da secante é uma técnica útil para encontrar raízes de funções, especialmente quando a derivada não está disponível. Embora sua convergência seja geralmente mais lenta do que a do método de Newton, ele pode ser mais robusto em situações onde a derivada é difícil de calcular. A escolha dos pontos iniciais é crítica, e o método pode ser combinado com outras técnicas para melhorar a confiabilidade.\n",
    "\n",
    "#### Conclusão\n",
    "O método da secante é uma abordagem eficaz para a resolução de equações não lineares, especialmente em casos onde o cálculo da derivada é impraticável. Sua simplicidade e a ausência de necessidade de derivadas o tornam uma ferramenta valiosa em matemática computacional. No entanto, é importante estar ciente de suas limitações, como a dependência de pontos iniciais e a possibilidade de convergência lenta. Em muitos casos, o método da secante pode ser utilizado em conjunto com outras técnicas para otimizar a busca por raízes."
   ]
  }
 ],
 "metadata": {
  "language_info": {
   "name": "python"
  }
 },
 "nbformat": 4,
 "nbformat_minor": 2
}
