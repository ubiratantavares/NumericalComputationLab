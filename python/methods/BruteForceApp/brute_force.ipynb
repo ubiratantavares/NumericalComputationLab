{
 "cells": [
  {
   "cell_type": "markdown",
   "metadata": {},
   "source": [
    "# Resolução de Equação Não-Linear Transcendental: Método de Força Bruta"
   ]
  },
  {
   "cell_type": "markdown",
   "metadata": {},
   "source": [
    "## 1. Definição"
   ]
  },
  {
   "cell_type": "markdown",
   "metadata": {},
   "source": [
    "O **método de força bruta** ou **busca exaustiva** é uma abordagem direta que envolve a exploração de todas as possibilidades para resolver um problema, como a busca de raízes de funções matemáticas. Este método consiste em avaliar a função em vários pontos ao longo de um intervalo para identificar onde ela cruza o eixo x, indicando a presença de uma raiz (Linge; Langtangen, 2020). Em engenharia e análise numérica, é uma opção comum quando métodos analíticos são inviáveis ou quando o espaço de busca é complexo, requerendo uma verificação exaustiva para garantir a solução (Charpa; Canale, 2020; Burden; Faires, 2011)."
   ]
  },
  {
   "cell_type": "markdown",
   "metadata": {},
   "source": [
    "## 2. Algoritmo"
   ]
  },
  {
   "cell_type": "markdown",
   "metadata": {},
   "source": [
    "O algoritmo de força bruta para encontrar raízes de uma função pode ser descrito em etapas, conforme apresentado por Linge e Langtangen (2020):\n",
    "\n",
    "1. **Definir o intervalo**: Escolher um intervalo $[a, b]$ onde se suspeita que a raiz esteja localizada.\n",
    "2. **Dividir o intervalo**: Dividir o intervalo em $n$ subintervalos, onde a função será avaliada.\n",
    "3. **Avaliar a função**: Calcular $f(x)$ para cada ponto $x$ nos subintervalos.\n",
    "4. **Verificar cruzamento**: Identificar se a função muda de sinal entre dois pontos consecutivos. Se $f(x_i)$ e $f(x_{i+1})$ tiverem sinais opostos, então existe uma raiz no intervalo $[x_i, x_{i+1}]$.\n",
    "5. **Repetir**: Continuar o processo até que a raiz seja encontrada com a precisão desejada."
   ]
  },
  {
   "cell_type": "markdown",
   "metadata": {},
   "source": [
    "## 3. Vantagens"
   ]
  },
  {
   "cell_type": "markdown",
   "metadata": {},
   "source": [
    "- **Simplicidade**:  O **método de força bruta** é fácil de entender e implementar, tornando-o acessível para iniciantes em programação e matemática (Burden; Faires, 2011; Charpa; Canale, 2020; Linge; Langtangen, 2020; Press et al, 2007)."
   ]
  },
  {
   "cell_type": "markdown",
   "metadata": {},
   "source": [
    "- **Sem requisitos complexos**: Não requer conhecimento prévio sobre a função, como derivadas ou continuidade, apenas a avaliação da função em pontos discretos (Linge; Langtangen, 2020). Não requer o cálculo de derivadas, o que é vantajoso para funções que são difíceis de diferenciar (Charpa; Canale, 2020)."
   ]
  },
  {
   "cell_type": "markdown",
   "metadata": {},
   "source": [
    "- **Aplicabilidade geral (Generalidade)**: Pode ser aplicado a uma ampla gama de problemas, independentemente da complexidade da função (Burden; Faires, 2011; Charpa; Canale, 2020). Já Press et al (2007) que, a aplicabilidade do método inclui aqueles problemas onde a função não é diferenciável ou onde as derivadas não estão disponíveis."
   ]
  },
  {
   "cell_type": "markdown",
   "metadata": {},
   "source": [
    "- **Convergência garantida**: Se a função é contínua e a raiz está dentro do intervalo escolhido, o método garantirá a identificação da raiz (Burden; Faires, 2011)."
   ]
  },
  {
   "cell_type": "markdown",
   "metadata": {},
   "source": [
    "- **Robustez**: Funciona bem em situações onde outros métodos podem falhar, especialmente em funções com múltiplas raízes ou comportamento irregular (Press et al, 2007)."
   ]
  },
  {
   "cell_type": "markdown",
   "metadata": {},
   "source": [
    "## 4. Limitações"
   ]
  },
  {
   "cell_type": "markdown",
   "metadata": {},
   "source": [
    "- **Ineficiente**: O método pode ser muito ineficiente, especialmente, se a raiz está em intervalo muito grande ou se a função tiver muitas oscilações ou se a função é complexa, resultando em um número elevado de avaliações da função (Burden; Faires, 2011; Charpa; Canale, 2020; Linge; Langtangen, 2020; Press et al, 2007)."
   ]
  },
  {
   "cell_type": "markdown",
   "metadata": {},
   "source": [
    "- **Precisão limitada**: A precisão da raiz encontrada depende da escolha do número de subintervalos; um número muito pequeno pode resultar em uma raiz imprecisa (Linge; Langtangen, 2020; Press et al, 2007). Já Burden e Faires (2011) afirmam que a precisão da solução depende da escolha do número de subintervalos, o que pode levar a um ***trade-off***  entre tempo de computação e precisão."
   ]
  },
  {
   "cell_type": "markdown",
   "metadata": {},
   "source": [
    "- **Não garante a convergência**: O método não garante que uma raiz será encontrada, especialmente se a função não mudar de sinal no intervalo escolhido (Linge; Langtangen, 2020). A precisão da solução pode ser baixa, e a convergência para a raiz pode ser lenta (Charpa; Canale, 2020)."
   ]
  },
  {
   "cell_type": "markdown",
   "metadata": {},
   "source": [
    "* **Custo computacional**: O tempo de execução pode aumentar exponencialmente com o número de subintervalos, tornando-o impraticável para problemas de grande escala (Charpa; Canale, 2020). Para funções complexas, o custo computacional pode ser proibitivo, tornando outros métodos mais desejáveis (Press et al, 2007)."
   ]
  },
  {
   "cell_type": "markdown",
   "metadata": {},
   "source": [
    "* **Não é adaptativo**: O método não ajusta automaticamente a busca com base no comportamento da função (Burden; Faires, 2011)."
   ]
  },
  {
   "cell_type": "markdown",
   "metadata": {},
   "source": [
    "## 5. Codificação"
   ]
  },
  {
   "cell_type": "markdown",
   "metadata": {},
   "source": [
    "A implementação do **método da força bruta** em Python pode ser feita da seguinte forma:"
   ]
  },
  {
   "cell_type": "code",
   "execution_count": 1,
   "metadata": {},
   "outputs": [],
   "source": [
    "def calculate_step(a, b, num_points):\n",
    "    return (b - a) / num_points"
   ]
  },
  {
   "cell_type": "code",
   "execution_count": 2,
   "metadata": {},
   "outputs": [],
   "source": [
    "def are_opposite_signs(func, a, b):\n",
    "    return func(a) * func(b) < 0"
   ]
  },
  {
   "cell_type": "code",
   "execution_count": 3,
   "metadata": {},
   "outputs": [],
   "source": [
    "def brute_force(func, a, b, num_points=1000):\n",
    "    roots = []\n",
    "    step = calculate_step(a, b, num_points)\n",
    "    for i in range(num_points + 1):\n",
    "        x = a + i * step\n",
    "        if are_opposite_signs(func, x, x + step):\n",
    "            roots.append((x, x + step))    \n",
    "    return roots"
   ]
  },
  {
   "cell_type": "code",
   "execution_count": 4,
   "metadata": {},
   "outputs": [],
   "source": [
    "def is_list_empty(roots):\n",
    "    return len(roots) == 0"
   ]
  },
  {
   "cell_type": "code",
   "execution_count": 5,
   "metadata": {},
   "outputs": [],
   "source": [
    "def display_result(roots):\n",
    "    if is_list_empty(roots):\n",
    "        print(\"Não encontrou raíz(es) no intervalo.\")\n",
    "    else:\n",
    "        print(\"Há raíz(es) no(s) sub-intervalo(s):\", roots)"
   ]
  },
  {
   "cell_type": "code",
   "execution_count": 6,
   "metadata": {},
   "outputs": [],
   "source": [
    "import math\n",
    "\n",
    "def function():\n",
    "    return lambda x: math.exp(x) - 2  # f(x) = e^x - 2"
   ]
  },
  {
   "cell_type": "code",
   "execution_count": 7,
   "metadata": {},
   "outputs": [
    {
     "name": "stdout",
     "output_type": "stream",
     "text": [
      "Há raíz(es) no(s) sub-intervalo(s): [(0.6931400000000001, 0.69315)]\n"
     ]
    }
   ],
   "source": [
    "roots = brute_force(function(), 0, 1, 100_000)\n",
    "display_result(roots)"
   ]
  },
  {
   "cell_type": "markdown",
   "metadata": {},
   "source": [
    "Refatorando o script acima para o paradigma de Programação Orientada a Objetos, teremos:"
   ]
  },
  {
   "cell_type": "code",
   "execution_count": 11,
   "metadata": {},
   "outputs": [],
   "source": [
    "class BruteForce:\n",
    "    def __init__(self, func, a, b, num_points=1000):\n",
    "        self.func = func\n",
    "        self.a = a\n",
    "        self.b = b\n",
    "        self.num_points = num_points\n",
    "        self.roots = []\n",
    "\n",
    "    def calculate_step(self):\n",
    "        return (self.b - self.a) / self.num_points\n",
    "\n",
    "    def are_opposite_signs(self, x1, x2):\n",
    "        return self.func(x1) * self.func(x2) < 0\n",
    "\n",
    "    def find_roots(self):\n",
    "        step = self.calculate_step()\n",
    "        for i in range(self.num_points + 1):\n",
    "            x = self.a + i * step\n",
    "            if self.are_opposite_signs(x, x + step):\n",
    "                self.roots.append((x, x + step))    \n",
    "        return self.roots\n",
    "\n",
    "    def is_list_empty(self):\n",
    "        return len(self.roots) == 0\n",
    "\n",
    "    def display_result(self):\n",
    "        if self.is_list_empty():\n",
    "            print(\"Não encontrou raíz(es) no intervalo.\")\n",
    "        else:\n",
    "            print(\"Há raíz(es) no(s) sub-intervalo(s):\", self.roots)"
   ]
  },
  {
   "cell_type": "code",
   "execution_count": 12,
   "metadata": {},
   "outputs": [],
   "source": [
    "import math\n",
    "\n",
    "def function():\n",
    "    return lambda x: math.exp(x) - 2  # f(x) = e^x - 2"
   ]
  },
  {
   "cell_type": "code",
   "execution_count": 13,
   "metadata": {},
   "outputs": [
    {
     "name": "stdout",
     "output_type": "stream",
     "text": [
      "Há raíz(es) no(s) sub-intervalo(s): [(0.6931400000000001, 0.69315)]\n"
     ]
    }
   ],
   "source": [
    "finder = BruteForce(function(), 0, 1, 100_000)\n",
    "finder.find_roots()\n",
    "finder.display_result()"
   ]
  },
  {
   "cell_type": "markdown",
   "metadata": {},
   "source": [
    "## 6. Discussão"
   ]
  },
  {
   "cell_type": "markdown",
   "metadata": {},
   "source": [
    "O **método da força bruta** é uma técnica básica e de fácil implementação para encontrar raízes de funções, útil especialmente em problemas iniciais ou contextos educativos. Sua simplicidade permite aplicá-lo em situações onde métodos mais sofisticados não são viáveis (Linge; Langtangen, 2020; Chapra; Canale, 2020). No entanto, é frequentemente ineficiente e não garante convergência rápida, levando engenheiros e analistas a considerarem alternativas como o **método de Newton-Raphson** ou **métodos híbridos**, que combinam a robustez de **métodos de ***bracketing***** com a velocidade de **métodos abertos** (Chapra; Canale, 2020; Burden; Faires, 2011). Embora a força bruta seja vista como uma base para **métodos numéricos**, sua aplicação em problemas complexos é limitada pela falta de precisão e rapidez, o que torna métodos como **Bisseção** ou **Newton** preferíveis em certos contextos. Escolher bons intervalos iniciais e ***bracketing*** de raízes são práticas recomendadas para o sucesso de **métodos de busca de raízes** (Press et al., 2007)."
   ]
  },
  {
   "cell_type": "markdown",
   "metadata": {},
   "source": [
    "## 7. Conclusão"
   ]
  },
  {
   "cell_type": "markdown",
   "metadata": {},
   "source": [
    "O **método de força bruta** surge como uma abordagem fundamental, apesar de suas limitações de eficiência e precisão. Esse método direto e acessível, embora seja menos avançado, oferece uma base robusta para a introdução aos **métodos numéricos** e é muitas vezes o ponto de partida para estudos mais sofisticados (Linge; Langtangen, 2020). Por sua simplicidade e aplicabilidade, ele ainda é viável em diversos contextos, especialmente para iniciantes, mesmo que métodos mais avançados sejam recomendados para problemas complexos, como discutido por Chapra e Canale (2020). Essa técnica serve como um pilar para a compreensão de métodos mais complexos, e obras como as de Burden e Faires (2011) e Press et al. (2007) destacam que a familiaridade com o fundamento do método é essencial para uma aplicação mais eficaz de técnicas computacionais avançadas."
   ]
  },
  {
   "cell_type": "markdown",
   "metadata": {},
   "source": [
    "## 8. Referências"
   ]
  },
  {
   "cell_type": "markdown",
   "metadata": {},
   "source": [
    "[1] Svein Linge; Hans Petter Langtangen. **Programming for Computations - Python**. Springer Open. 2020.\n",
    "\n",
    "[2] Steven C. Chapra; Raymond P. Canale. **Numerical Methods for Engineers**. Eighth Edition. Mc Graw Hill. 2020.\n",
    "\n",
    "[3] Richard L. Burden; J. Douglas Faires. **Numerical Analysis**. Ninth Edition. Brooks/Cole. 2011.\n",
    "\n",
    "[4] William H. Press et al. **Numerical Recipes: The Art of Scientific Computing**. Third Edition. Cambridge University Press. 2007."
   ]
  }
 ],
 "metadata": {
  "kernelspec": {
   "display_name": "Python 3 (ipykernel)",
   "language": "python",
   "name": "python3"
  },
  "language_info": {
   "codemirror_mode": {
    "name": "ipython",
    "version": 3
   },
   "file_extension": ".py",
   "mimetype": "text/x-python",
   "name": "python",
   "nbconvert_exporter": "python",
   "pygments_lexer": "ipython3",
   "version": "3.12.7"
  }
 },
 "nbformat": 4,
 "nbformat_minor": 4
}
