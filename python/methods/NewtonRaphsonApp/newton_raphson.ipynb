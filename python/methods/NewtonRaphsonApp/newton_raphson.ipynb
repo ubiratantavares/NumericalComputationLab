{
 "cells": [
  {
   "cell_type": "markdown",
   "metadata": {},
   "source": [
    "# Raízes de Equação: Método de Newton-Raphson"
   ]
  },
  {
   "cell_type": "markdown",
   "metadata": {},
   "source": [
    "Mario Meireles Graça; Pedro Trindade Lima. Apontamentos de Matemática Computacional. Universidade de Lisboa. 2015.\n",
    "\n",
    "### Método de Newton\n",
    "\n",
    "#### Definição\n",
    "O método de Newton, também conhecido como método de Newton-Raphson, é um algoritmo iterativo utilizado para encontrar raízes de funções reais. A ideia central é usar a aproximação da tangente à curva da função em um ponto inicial para encontrar um novo ponto que se aproxima da raiz. O método é baseado na fórmula:\n",
    "$\n",
    "x_{n+1} = x_n - \\frac{f(x_n)}{f'(x_n)}\n",
    "$\n",
    "onde $ f $ é a função da qual se deseja encontrar a raiz e $ f' $ é a sua derivada.\n",
    "\n",
    "#### Algoritmo\n",
    "1. **Escolha do Ponto Inicial**: Selecione um ponto inicial $ x_0 $ que esteja próximo da raiz desejada.\n",
    "2. **Iteração**: Calcule as iterações usando a fórmula:\n",
    "   $\n",
    "   x_{n+1} = x_n - \\frac{f(x_n)}{f'(x_n)}\n",
    "   $\n",
    "3. **Critério de Parada**: Continue iterando até que a diferença entre iterações consecutivas seja menor que uma tolerância pré-definida $ \\epsilon $ ou até que um número máximo de iterações seja atingido.\n",
    "\n",
    "#### Vantagens\n",
    "- **Convergência Rápida**: O método de Newton geralmente converge quadráticamente, o que significa que o número de dígitos corretos dobra a cada iteração, tornando-o muito eficiente.\n",
    "- **Aplicabilidade**: Pode ser aplicado a uma ampla gama de funções, desde que a derivada não se anule no ponto de iteração.\n",
    "\n",
    "#### Limitações\n",
    "- **Dependência da Derivada**: O método requer o cálculo da derivada da função, o que pode ser complicado ou impossível para algumas funções.\n",
    "- **Convergência**: A convergência não é garantida se o ponto inicial estiver longe da raiz ou se a derivada se anular. Além disso, pode convergir para raízes erradas se houver múltiplas raízes próximas.\n",
    "- **Comportamento Oscilante**: O método pode oscilar ou divergir se a função não for bem comportada.\n",
    "\n",
    "#### Implementação em Python\n",
    "Aqui está um exemplo simples de implementação do método de Newton em Python:\n",
    "\n",
    "```python\n",
    "def newton(f, df, x0, tol=1e-5, max_iter=100):\n",
    "    for i in range(max_iter):\n",
    "        x1 = x0 - f(x0) / df(x0)  # Calcula a próxima iteração\n",
    "        if abs(x1 - x0) < tol:  # Verifica a condição de parada\n",
    "            return x1  # Retorna a raiz encontrada\n",
    "        x0 = x1  # Atualiza o ponto para a próxima iteração\n",
    "    \n",
    "    raise ValueError(\"Número máximo de iterações atingido.\")\n",
    "\n",
    "# Exemplo de uso\n",
    "def f(x):\n",
    "    return x**2 - 2  # Função cuja raiz queremos encontrar (sqrt(2))\n",
    "\n",
    "def df(x):\n",
    "    return 2*x  # Derivada da função\n",
    "\n",
    "raiz_encontrada = newton(f, df, 1)\n",
    "print(f\"A raiz encontrada é: {raiz_encontrada}\")\n",
    "```\n",
    "\n",
    "#### Discussão\n",
    "O método de Newton é uma técnica poderosa para encontrar raízes de funções, especialmente quando a função é suave e a derivada é fácil de calcular. Sua rápida convergência é uma grande vantagem, mas a necessidade de uma boa escolha do ponto inicial e a dependência da derivada podem ser desvantagens significativas. Em casos onde a derivada é difícil de calcular, outras técnicas, como o método do ponto fixo ou métodos numéricos alternativos, podem ser mais apropriadas.\n",
    "\n",
    "#### Conclusão\n",
    "O método de Newton é uma ferramenta valiosa em matemática computacional para a resolução de equações não lineares. Sua eficiência e rapidez o tornam uma escolha popular, mas é essencial estar ciente de suas limitações, como a necessidade de calcular a derivada e a possibilidade de divergência. Em muitos casos, o método de Newton pode ser combinado com outras técnicas para melhorar a robustez e a confiabilidade na busca por raízes.\n",
    "\n"
   ]
  }
 ],
 "metadata": {
  "language_info": {
   "name": "python"
  }
 },
 "nbformat": 4,
 "nbformat_minor": 2
}
