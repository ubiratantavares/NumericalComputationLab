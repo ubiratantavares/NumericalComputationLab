{
 "cells": [
  {
   "cell_type": "markdown",
   "metadata": {},
   "source": [
    "# Raízes de Equações: Método da Posição Falsa"
   ]
  },
  {
   "cell_type": "markdown",
   "metadata": {},
   "source": [
    "O **método da posição falsa**, ou **secante modificada**, é uma técnica numérica para encontrar raízes de funções contínuas, baseada na interseção de uma linha reta entre dois pontos com sinais opostos da função. Diferente do **método da bisseção**, que utiliza o ponto médio, o **método da posição falsa** aproxima a raiz ajustando iterativamente os extremos do intervalo conforme os sinais dos valores da função, convergindo para a raiz desejada. Este método é eficiente para funções quase lineares e oferece uma boa alternativa ao **método da bisseção**, combinando segurança e velocidade, embora sua performance dependa da natureza da função e do intervalo escolhido."
   ]
  },
  {
   "cell_type": "markdown",
   "metadata": {},
   "source": [
    "Aqui está uma explicação completa sobre o método da posição falsa, estruturada conforme solicitado.\n",
    "\n",
    "---\n",
    "\n",
    "### Método da Posição Falsa\n",
    "\n",
    "#### Definição\n",
    "O método da posição falsa, ou método da secante modificada, é uma técnica numérica para encontrar raízes de funções contínuas. Diferente do método da bisseção, que utiliza o ponto médio de um intervalo, o método da posição falsa aproxima a raiz através de uma linha reta entre dois pontos com sinais opostos da função. A ideia é iterativamente ajustar os extremos do intervalo com base na avaliação dos sinais para convergir à raiz desejada (Burden e Faires, 2011, Capítulo 2)【5†source】.\n",
    "\n",
    "#### Algoritmo\n",
    "O algoritmo básico do método da posição falsa consiste nos seguintes passos:\n",
    "1. Escolher um intervalo \\([a, b]\\) onde \\(f(a) \\times f(b) < 0\\), garantindo que exista uma raiz entre \\(a\\) e \\(b\\).\n",
    "2. Calcular a aproximação da raiz \\(c\\) através da fórmula:\n",
    "   \\[\n",
    "   c = b - \\frac{f(b)(b - a)}{f(b) - f(a)}\n",
    "   \\]\n",
    "3. Avaliar \\(f(c)\\):\n",
    "   - Se \\(f(c) = 0\\), \\(c\\) é a raiz da função.\n",
    "   - Se \\(f(a) \\times f(c) < 0\\), redefinir \\(b = c\\).\n",
    "   - Caso contrário, redefinir \\(a = c\\).\n",
    "4. Repetir os passos 2 e 3 até que \\(f(c)\\) esteja suficientemente próximo de zero ou atinja o número máximo de iterações.\n",
    "\n",
    "Esse processo, descrito detalhadamente por Chapra e Canale (2020, Capítulo 5)【5†source】, garante uma convergência relativamente rápida, especialmente quando a função é quase linear no intervalo.\n",
    "\n",
    "#### Vantagens\n",
    "O método da posição falsa possui algumas vantagens importantes:\n",
    "- **Convergência garantida**: desde que \\(f(a)\\) e \\(f(b)\\) tenham sinais opostos, o método sempre convergirá para uma raiz.\n",
    "- **Eficiência em funções quase lineares**: por usar uma secante para aproximação, ele tende a convergir rapidamente para funções que são quase lineares no intervalo (Hill, 2020, Seção 8.4)【5†source】.\n",
    "\n",
    "#### Limitações\n",
    "Apesar de suas vantagens, o método possui limitações:\n",
    "- **Convergência lenta para funções não lineares**: quando a função é altamente não linear, o método pode convergir mais lentamente que o esperado.\n",
    "- **Necessidade de um bom intervalo inicial**: se o intervalo inicial não contiver uma raiz ou se a função não for contínua, o método pode falhar (Linge e Langtangen, 2020, Capítulo 7)【5†source】.\n",
    "\n",
    "#### Implementação em Python\n",
    "Segue uma implementação do método da posição falsa em Python:\n",
    "\n",
    "```python\n",
    "def posicao_falsa(f, a, b, tol=1e-6, max_iter=100):\n",
    "    if f(a) * f(b) >= 0:\n",
    "        raise ValueError(\"O intervalo [a, b] não contém uma raiz\")\n",
    "    \n",
    "    for _ in range(max_iter):\n",
    "        c = b - f(b) * (b - a) / (f(b) - f(a))\n",
    "        if abs(f(c)) < tol:\n",
    "            return c\n",
    "        elif f(a) * f(c) < 0:\n",
    "            b = c\n",
    "        else:\n",
    "            a = c\n",
    "    raise RuntimeError(\"Máximo de iterações atingido sem convergência\")\n",
    "\n",
    "# Exemplo de função para testar: f(x) = x^2 - 4\n",
    "def funcao(x):\n",
    "    return x**2 - 4\n",
    "\n",
    "raiz = posicao_falsa(funcao, 1, 3)\n",
    "print(f\"A raiz encontrada é: {raiz}\")\n",
    "```\n",
    "\n",
    "#### Código para Teste\n",
    "Neste código, usamos a função \\( f(x) = x^2 - 4 \\) com um intervalo inicial \\([1, 3]\\). A raiz esperada para esta função é \\(x = 2\\).\n",
    "\n",
    "#### Discussão\n",
    "Embora o método da posição falsa seja eficiente para muitos tipos de funções, sua convergência depende fortemente da natureza da função. Em funções com curvatura significativa, o método pode precisar de mais iterações para convergir, comparado ao método da bisseção, que, apesar de ser mais lento, possui um comportamento mais previsível em tais casos (Kiusalaas, 2013, Capítulo 4)【5†source】.\n",
    "\n",
    "#### Conclusão\n",
    "O método da posição falsa é uma técnica eficaz para encontrar raízes de funções contínuas, combinando a segurança do método da bisseção com a velocidade da aproximação pela secante. No entanto, sua aplicabilidade depende da escolha de um intervalo inicial adequado e da continuidade da função. Como alternativa, outros métodos, como o de Newton-Raphson, podem ser mais apropriados para funções com características não lineares acentuadas.\n",
    "\n",
    "#### Referências\n",
    "1. Burden, R. L., & Faires, J. D. (2011). *Numerical Analysis*. Cengage Learning. Capítulo 2.\n",
    "2. Chapra, S. C., & Canale, R. P. (2020). *Numerical Methods for Engineers*. McGraw Hill. Capítulo 5.\n",
    "3. Hill, C. (2020). *Learning Scientific Programming with Python*. Cambridge University Press. Seção 8.4.\n",
    "4. Linge, S., & Langtangen, H. P. (2020). *Programming for Computations - Python*. Springer Open. Capítulo 7.\n",
    "5. Kiusalaas, J. (2013). *Numerical Methods in Engineering with Python 3*. Cambridge University Press. Capítulo 4."
   ]
  }
 ],
 "metadata": {
  "language_info": {
   "name": "python"
  }
 },
 "nbformat": 4,
 "nbformat_minor": 2
}
