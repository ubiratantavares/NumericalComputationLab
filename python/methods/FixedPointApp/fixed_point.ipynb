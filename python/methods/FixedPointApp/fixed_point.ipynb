{
 "cells": [
  {
   "cell_type": "markdown",
   "metadata": {},
   "source": [
    "# Raízes de Equação: Método do Ponto Fixo"
   ]
  },
  {
   "cell_type": "markdown",
   "metadata": {},
   "source": [
    "Mario Meireles Graça; Pedro Trindade Lima. Apontamentos de Matemática Computacional. Universidade de Lisboa. 2015.\n",
    "\n",
    "### Método do Ponto Fixo\n",
    "\n",
    "#### Definição\n",
    "O método do ponto fixo é um algoritmo iterativo utilizado para encontrar raízes de equações da forma $ f(x) = 0 $. A ideia central é reescrever a equação na forma $ x = g(x) $, onde $ g $ é uma função que deve ser contínua e que, sob certas condições, garante a convergência da sequência gerada para um ponto fixo $ z $ tal que $ g(z) = z $.\n",
    "\n",
    "#### Algoritmo\n",
    "1. **Escolha da Função**: Reescreva a equação $ f(x) = 0 $ na forma $ x = g(x) $.\n",
    "2. **Escolha do Ponto Inicial**: Selecione um ponto inicial $ x_0 $ dentro de um intervalo onde $ g $ é definida.\n",
    "3. **Iteração**: Calcule as iterações usando a fórmula:\n",
    "   $\n",
    "   x_{n} = g(x_{n-1}), \\quad n = 1, 2, \\ldots\n",
    "   $\n",
    "4. **Critério de Parada**: Continue iterando até que a diferença entre iterações consecutivas seja menor que uma tolerância pré-definida $ \\epsilon $ ou até que um número máximo de iterações seja atingido.\n",
    "\n",
    "#### Vantagens\n",
    "- **Simplicidade**: O método é fácil de entender e implementar, especialmente quando a função $ g $ é simples.\n",
    "- **Flexibilidade**: Pode ser aplicado a uma ampla gama de problemas, desde que a função $ g $ satisfaça as condições necessárias.\n",
    "- **Convergência**: Se as condições de Lipschitz são satisfeitas, o método pode convergir rapidamente.\n",
    "\n",
    "#### Limitações\n",
    "- **Condições de Convergência**: A convergência não é garantida para todas as funções. É necessário que $ g $ seja uma função contraída (ou seja, que satisfaça a condição de Lipschitz).\n",
    "- **Escolha do Ponto Inicial**: A escolha inadequada do ponto inicial pode levar a divergência ou a ciclos.\n",
    "- **Raízes Múltiplas**: O método pode ter dificuldades em convergir para raízes múltiplas.\n",
    "\n",
    "#### Implementação em Python\n",
    "Aqui está um exemplo simples de implementação do método do ponto fixo em Python:\n",
    "\n",
    "```python\n",
    "def ponto_fixo(g, x0, tol=1e-5, max_iter=100):\n",
    "    for i in range(max_iter):\n",
    "        x1 = g(x0)  # Calcula a próxima iteração\n",
    "        if abs(x1 - x0) < tol:  # Verifica a condição de parada\n",
    "            return x1  # Retorna o ponto fixo encontrado\n",
    "        x0 = x1  # Atualiza o ponto para a próxima iteração\n",
    "    \n",
    "    raise ValueError(\"Número máximo de iterações atingido.\")\n",
    "\n",
    "# Exemplo de uso\n",
    "def g(x):\n",
    "    return (x + 2) / 3  # Exemplo de função g(x)\n",
    "\n",
    "ponto_fixo_encontrado = ponto_fixo(g, 1)\n",
    "print(f\"O ponto fixo encontrado é: {ponto_fixo_encontrado}\")\n",
    "```\n",
    "\n",
    "#### Discussão\n",
    "O método do ponto fixo é uma abordagem poderosa para resolver equações não lineares, especialmente quando a função pode ser facilmente reescrita na forma desejada. No entanto, a eficácia do método depende fortemente da escolha da função $ g $ e do ponto inicial. Em muitos casos, pode ser necessário experimentar diferentes formas de $ g $ para garantir a convergência.\n",
    "\n",
    "#### Conclusão\n",
    "O método do ponto fixo é uma técnica valiosa em matemática computacional para encontrar raízes de funções. Sua simplicidade e flexibilidade o tornam uma escolha popular, mas é crucial garantir que as condições de convergência sejam atendidas. Embora tenha suas limitações, como a dependência da escolha da função e do ponto inicial, ele continua a ser uma ferramenta útil em muitos contextos de resolução de problemas.\n",
    "\n",
    "\n"
   ]
  }
 ],
 "metadata": {
  "language_info": {
   "name": "python"
  }
 },
 "nbformat": 4,
 "nbformat_minor": 2
}
