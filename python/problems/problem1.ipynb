{
 "cells": [
  {
   "cell_type": "markdown",
   "metadata": {},
   "source": [
    "# Equilíbrio de Mecanismo\n",
    "\n"
   ]
  },
  {
   "cell_type": "markdown",
   "metadata": {},
   "source": [
    "Uma haste delgada de comprimento 2R e peso P está presa a um cursor em B e apoiada em um cilindro de raio R. \n",
    "\n",
    "Sabendo que o cursor pode se deslocar livremente ao longo de sua guia vertical, determine o valor de T correspondente ao equilíbrio. Despreze o atrito."
   ]
  },
  {
   "cell_type": "markdown",
   "metadata": {},
   "source": [
    "![Figura](problem1.png)"
   ]
  },
  {
   "cell_type": "markdown",
   "metadata": {},
   "source": [
    "**NOTA**: Problema 4.60, página 254, **Mecânica Vetorial para Engenheiros - Estática**. F. P. Beer & E. R. Johnston, Jr. Quinta edição revisada. Makron Books.1994."
   ]
  },
  {
   "cell_type": "markdown",
   "metadata": {},
   "source": [
    "O ângulo $\\theta$ correspondente ao equilíbrio é a incógnita do problema. A Equação resultante durante o desenvolvimento do problema é:\n",
    "\n",
    "$\\cos³(\\theta) = \\sin(\\theta)$\n",
    "\n",
    "$\\cos³(\\theta) - \\sin(\\theta) = 0$\n",
    "\n",
    "Considerando $f(\\theta) = \\cos³(\\theta) - \\sin(\\theta) = 0$\n",
    "\n",
    "A solução da equação corresponde ao zero da $f(\\theta)$."
   ]
  }
 ],
 "metadata": {
  "language_info": {
   "name": "python"
  }
 },
 "nbformat": 4,
 "nbformat_minor": 2
}
