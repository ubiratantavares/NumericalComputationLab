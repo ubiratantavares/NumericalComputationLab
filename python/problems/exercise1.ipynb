{
 "cells": [
  {
   "cell_type": "markdown",
   "metadata": {},
   "source": [
    "1. Determine as raízes das funções abaixo:"
   ]
  },
  {
   "cell_type": "markdown",
   "metadata": {},
   "source": [
    "a) $f(x) = 2 \\cdot x - \\cos(x)$"
   ]
  },
  {
   "cell_type": "markdown",
   "metadata": {},
   "source": [
    "b) $f(x) = x^{3} - 9 \\cdot x + 3$"
   ]
  },
  {
   "cell_type": "markdown",
   "metadata": {},
   "source": [
    "c) $f(x) = x + \\ln(x)$"
   ]
  },
  {
   "cell_type": "markdown",
   "metadata": {
    "vscode": {
     "languageId": "plaintext"
    }
   },
   "source": [
    "d) $f(x) = x \\cdot \\ln(x) + 1$"
   ]
  },
  {
   "cell_type": "markdown",
   "metadata": {},
   "source": [
    "e) $f(x) = x^{3} + 10^{x} + 2$"
   ]
  },
  {
   "cell_type": "markdown",
   "metadata": {},
   "source": [
    "f) $f(x) = \\sqrt{x} - 5 \\cdot \\exp(-x)$"
   ]
  },
  {
   "cell_type": "markdown",
   "metadata": {},
   "source": [
    "g) $f(x) = x^{5} + 3 \\cdot x^{4} - 9 \\cdot x^{3} - x^{2} + 20 \\cdot x - 12$"
   ]
  },
  {
   "cell_type": "markdown",
   "metadata": {},
   "source": [
    "h) $f(x) = x^{3} - 4 \\cdot x^{2} - x + 6$"
   ]
  },
  {
   "cell_type": "markdown",
   "metadata": {},
   "source": [
    "i) $f(x) = x^{4} - 2 \\cdot x^{3} - 7 \\cdot x^{2} + 8 \\cdot x + 12$"
   ]
  },
  {
   "cell_type": "markdown",
   "metadata": {},
   "source": [
    "j) $f(x) = x^{4} - 8 \\cdot x^{3} + 16 \\cdot x^{2} - 8 \\cdot x + 15$"
   ]
  },
  {
   "cell_type": "markdown",
   "metadata": {},
   "source": [
    "k) $f(x) = x^{2} + 4 \\cdot x + 4$"
   ]
  }
 ],
 "metadata": {
  "language_info": {
   "name": "python"
  }
 },
 "nbformat": 4,
 "nbformat_minor": 2
}
