{
 "cells": [
  {
   "cell_type": "markdown",
   "metadata": {},
   "source": [
    "# Equilíbrio de Corpos Rígidos com Apoio Deformável"
   ]
  },
  {
   "cell_type": "markdown",
   "metadata": {},
   "source": [
    "Pórtico em L invertido com um apoio flexível de rotação"
   ]
  },
  {
   "cell_type": "markdown",
   "metadata": {},
   "source": [
    "![Figura](problem2.png)"
   ]
  },
  {
   "cell_type": "markdown",
   "metadata": {},
   "source": [
    "Para modelar o equilíbrio do pórtico em L invertido com um apoio flexível de rotação, vamos analisar o sistema de forças e momentos atuando na estrutura, especialmente em relação ao ângulo $\\theta$ que descreve a inclinação do pórtico após a aplicação de uma carga."
   ]
  },
  {
   "cell_type": "markdown",
   "metadata": {},
   "source": [
    "## 1. Dados e Hipóteses\n",
    "\n",
    "A figura indica que:\n",
    "\n",
    "* Comprimento vertical $L$.\n",
    "\n",
    "* Comprimento horizontal da barra superior igual a $\\frac{L}{2}$.\n",
    "\n",
    "* Rigidez rotacional $K$ no apoio inferior, que proporciona um momento resistivo proporcional à rotação $\\theta$.\n",
    "\n",
    "* Uma força $P$ aplicada verticalmente no final da barra horizontal.\n",
    "\n",
    "Vamos estabelecer uma relação entre $\\theta$, a rigidez rotacional $K$, e a força $P$ no equilíbrio."
   ]
  },
  {
   "cell_type": "markdown",
   "metadata": {},
   "source": [
    "### 2. Análise de Forças e Momentos\n",
    "\n",
    "1. **Força Aplicada $P$:** Essa força atua no ponto extremo da barra horizontal, causando um momento com relação ao apoio na base.\n",
    "\n",
    "2. **Rigidez Rotacional $K$:** O apoio flexível de rotação cria um momento resistivo $M_{K}$ que é proporcional ao ângulo de rotação $\\theta$. \n",
    "\n",
    "Esse momento é dado por: $M_{K} = K \\cdot \\theta$\n",
    "\n",
    "3. **Momento devido à Força $P$:** A força $P$ gera um momento em torno do ponto de rotação do apoio. Considerando a geometria, esse momento pode ser expresso como função de $\\theta$. A posição do ponto onde $P$ é aplicado tem uma projeção horizontal de $\\frac{L}{2} \\cos(\\theta)$ e uma projeção vertical de $L + \\frac{L}{2}) \\sin(\\theta)$. O momento $M_{P}$ em torno do apoio é, então:\n",
    "\n",
    "$M_{P} = P \\cdot (L \\cos(\\theta) + \\frac{L}{2} \\cdot \\sin(\\theta))$"
   ]
  },
  {
   "cell_type": "markdown",
   "metadata": {},
   "source": [
    "### 3. Condição de Equilíbrio\n",
    "\n",
    "Para que o pórtico esteja em equilíbrio, o momento resistivo $M_{K}$ deve equilibrar o momento gerado pela força $P$. Assim, temos que:\n",
    "\n",
    "$K \\cdot \\theta = P \\cdot (L \\cdot \\cos(\\theta) + \\frac{L}{2} \\cdot \\sin(\\theta))$"
   ]
  },
  {
   "cell_type": "markdown",
   "metadata": {},
   "source": [
    "### 4. Manipulação da Equação\n",
    "\n",
    "Dividindo ambos os lados por $P \\cdot L$, obtemos:\n",
    "\n",
    "$\\frac{K}{P \\cdot L} \\cdot \\theta = \\cos(\\theta) + \\frac{1}{2} \\cdot \\sin(\\theta)$\n",
    "\n",
    "Reorganizando os termos, chegamos à forma final da equação de equilíbrio para $\\theta$:\n",
    "\n",
    "$\\frac{K}{P \\cdot L} \\cdot \\theta = 0,5 \\cdot \\cos(\\theta) + \\sin(\\theta)$\n",
    "\n",
    "Essa é a expressão procurada, que relaciona o ângulo $\\theta$ com as propriedades da força aplicada, o comprimento do pórtico e a rigidez do apoio rotacional."
   ]
  }
 ],
 "metadata": {
  "language_info": {
   "name": "python"
  }
 },
 "nbformat": 4,
 "nbformat_minor": 2
}
