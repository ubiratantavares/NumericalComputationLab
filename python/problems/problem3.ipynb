{
 "cells": [
  {
   "cell_type": "markdown",
   "metadata": {},
   "source": [
    "# Equação de Manning"
   ]
  },
  {
   "cell_type": "markdown",
   "metadata": {},
   "source": [
    "Aplicação da **Equação de Manning** $^1$ para verificação da capacidade de vazão de dutos. \n",
    "\n",
    "$^1$: J. M. Azevedo Netto. **Manual de Hidráulica**. Oitava edição atualizada. Editora Edgard Blucher. 1998."
   ]
  },
  {
   "cell_type": "markdown",
   "metadata": {},
   "source": [
    "![Figura](problem3.png)"
   ]
  },
  {
   "cell_type": "markdown",
   "metadata": {},
   "source": [
    "A metodologia 5W2H é uma ferramenta que ajuda a estruturar informações de forma clara e objetiva, utilizando sete perguntas fundamentais: **What (O que)**, **Why (Por que)**, **Where (Onde)**, **When (Quando)**, **Who (Quem)**, **How (Como)** e **How much (Quanto)**. Vamos aplicar essa metodologia à equação de Manning.\n",
    "\n",
    "### 1. What (O que)\n",
    "A **equação de Manning** é uma fórmula utilizada para calcular a vazão (Q) em um canal aberto, levando em consideração a rugosidade da superfície do canal, a inclinação do canal e as características geométricas do fluxo. A equação é expressa da seguinte forma:\n",
    "\n",
    "\\[\n",
    "Q = \\frac{1}{n} A R^{2/3} S^{1/2}\n",
    "\\]\n",
    "\n",
    "onde:\n",
    "- \\(Q\\) = vazão (m³/s)\n",
    "- \\(n\\) = coeficiente de rugosidade de Manning\n",
    "- \\(A\\) = área da seção transversal do fluxo (m²)\n",
    "- \\(R\\) = raio hidráulico (m)\n",
    "- \\(S\\) = inclinação da linha de energia (ou queda de nível) do canal (m/m)\n",
    "\n",
    "### 2. Why (Por que)\n",
    "A equação de Manning é importante porque permite estimar a vazão de água em canais abertos, o que é fundamental para o planejamento e gerenciamento de recursos hídricos, projetos de drenagem, controle de inundações e projetos de irrigação.\n",
    "\n",
    "### 3. Where (Onde)\n",
    "A equação de Manning é aplicada em diversos contextos, incluindo:\n",
    "- Canais naturais e artificiais (rios, córregos e canais de drenagem)\n",
    "- Projetos de irrigação\n",
    "- Sistemas de esgoto e drenagem urbana\n",
    "\n",
    "### 4. When (Quando)\n",
    "A equação de Manning é utilizada quando é necessário estimar a vazão de água em canais abertos, especialmente em situações que envolvem:\n",
    "- Projetos hidráulicos\n",
    "- Estudo de comportamento de fluxos em canais\n",
    "- Análise de escoamento em áreas agrícolas e urbanas\n",
    "\n",
    "### 5. Who (Quem)\n",
    "A equação de Manning é utilizada por engenheiros civis, hidráulicos, ambientais, agrônomos e profissionais de planejamento urbano. Além disso, é uma ferramenta comum em cursos de engenharia e recursos hídricos.\n",
    "\n",
    "### 6. How (Como)\n",
    "Para utilizar a equação de Manning, deve-se seguir estes passos:\n",
    "1. Determinar a área da seção transversal do canal (A).\n",
    "2. Calcular o raio hidráulico (R), que é a razão entre a área e o perímetro molhado.\n",
    "3. Identificar o coeficiente de rugosidade de Manning (\\(n\\)), que depende do material e da forma do canal.\n",
    "4. Medir ou estimar a inclinação do canal (S).\n",
    "5. Substituir os valores na equação para calcular a vazão (Q).\n",
    "\n",
    "### 7. How much (Quanto)\n",
    "O cálculo da vazão (Q) depende dos valores específicos das variáveis na equação de Manning. Os resultados podem variar amplamente dependendo das características do canal, da rugosidade e das condições de fluxo. Para aplicações práticas, é essencial coletar dados precisos para garantir resultados confiáveis.\n",
    "\n",
    "Essa abordagem ajuda a entender de forma estruturada a importância e a aplicação da equação de Manning em contextos relacionados ao escoamento de água em canais abertos."
   ]
  },
  {
   "cell_type": "markdown",
   "metadata": {},
   "source": [
    "Para obter a equação de Manning em função da profundidade do duto, precisamos considerar a relação entre as variáveis geométricas do fluxo e a profundidade. Vamos considerar um canal retangular, que é uma das formas mais comuns para aplicar a equação de Manning.\n",
    "\n",
    "### Passos para Derivar a Equação em Função da Profundidade\n",
    "\n",
    "1. **Definições Básicas**:\n",
    "   - Seja \\(h\\) a profundidade do fluxo (m).\n",
    "   - Seja \\(b\\) a largura do duto ou canal (m).\n",
    "\n",
    "2. **Área da Seção Transversal (\\(A\\))**:\n",
    "   - Para um canal retangular, a área da seção transversal é dada por:\n",
    "     \\[\n",
    "     A = b \\cdot h\n",
    "     \\]\n",
    "\n",
    "3. **Perímetro Molhado (\\(P\\))**:\n",
    "   - O perímetro molhado para um canal retangular é:\n",
    "     \\[\n",
    "     P = b + 2h\n",
    "     \\]\n",
    "\n",
    "4. **Raio Hidráulico (\\(R\\))**:\n",
    "   - O raio hidráulico é definido como a razão entre a área da seção transversal e o perímetro molhado:\n",
    "     \\[\n",
    "     R = \\frac{A}{P} = \\frac{b \\cdot h}{b + 2h}\n",
    "     \\]\n",
    "\n",
    "5. **Inclinação da Linha de Energia (\\(S\\))**:\n",
    "   - A inclinação da linha de energia é frequentemente assumida como constante em análises simplificadas, mas pode variar dependendo das condições do canal.\n",
    "\n",
    "6. **Substituição na Equação de Manning**:\n",
    "   - Agora, substituindo \\(A\\) e \\(R\\) na equação de Manning:\n",
    "     \\[\n",
    "     Q = \\frac{1}{n} A R^{2/3} S^{1/2}\n",
    "     \\]\n",
    "   - Temos:\n",
    "     \\[\n",
    "     Q = \\frac{1}{n} (b \\cdot h) \\left(\\frac{b \\cdot h}{b + 2h}\\right)^{2/3} S^{1/2}\n",
    "     \\]\n",
    "\n",
    "7. **Simplificação da Equação**:\n",
    "   - A equação resultante pode ser mais complexa devido à dependência de \\(b\\) e \\(h\\). No entanto, a estrutura básica é mantida:\n",
    "     \\[\n",
    "     Q = \\frac{1}{n} (b \\cdot h) \\left(\\frac{b \\cdot h}{b + 2h}\\right)^{2/3} S^{1/2}\n",
    "     \\]\n",
    "\n",
    "### Considerações Finais\n",
    "A equação final para \\(Q\\) dependerá dos valores específicos de \\(b\\), \\(h\\) e \\(n\\). Se \\(b\\) for constante (ou seja, um canal de largura fixa), a equação se torna uma função de \\(h\\) e os parâmetros de rugosidade e inclinação do canal.\n",
    "\n",
    "### Cálculo Prático\n",
    "Para cálculos práticos, você pode plotar \\(Q\\) em função de \\(h\\) para visualizar como a vazão varia com a profundidade, considerando diferentes valores de \\(b\\), \\(n\\) e \\(S\\). Isso é útil para projetos hidráulicos, onde a profundidade do fluxo é um fator crítico no desempenho do sistema."
   ]
  }
 ],
 "metadata": {
  "language_info": {
   "name": "python"
  }
 },
 "nbformat": 4,
 "nbformat_minor": 2
}
